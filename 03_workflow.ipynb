{
 "cells": [
  {
   "cell_type": "code",
   "execution_count": null,
   "metadata": {},
   "outputs": [],
   "source": [
    "# default_exp workflow\n",
    "%load_ext lab_black\n",
    "# nb_black if running in jupyter\n",
    "%load_ext autoreload\n",
    "# automatically reload python modules if there are changes in the\n",
    "%autoreload 2"
   ]
  },
  {
   "cell_type": "code",
   "execution_count": null,
   "metadata": {},
   "outputs": [],
   "source": [
    "# hide\n",
    "from nbdev.showdoc import *"
   ]
  },
  {
   "cell_type": "markdown",
   "metadata": {},
   "source": [
    "# Workflow\n",
    "\n",
    "> Define static or dynamic workflow for automatically updating, training and deploying your ML model!\n"
   ]
  },
  {
   "cell_type": "markdown",
   "metadata": {},
   "source": [
    "\r\n",
    "***input:*** Workflow definition parameters\r\n",
    "\r\n",
    "***output:*** python or snakemake script for running the workflow\r\n",
    "\r\n",
    "***description:***\r\n",
    "\r\n",
    "In this notebook you define a workflow for automatically updating, training and deploying your ML project"
   ]
  },
  {
   "cell_type": "markdown",
   "metadata": {},
   "source": [
    "## Import relevant modules"
   ]
  },
  {
   "cell_type": "code",
   "execution_count": null,
   "metadata": {},
   "outputs": [],
   "source": [
    "import numpy as np\n",
    "import pandas as pd \n",
    "import papermill as pm"
   ]
  },
  {
   "cell_type": "code",
   "execution_count": null,
   "metadata": {},
   "outputs": [],
   "source": [
    "seed = 0"
   ]
  },
  {
   "cell_type": "code",
   "execution_count": null,
   "metadata": {},
   "outputs": [],
   "source": [
    "np.random.seed(0)"
   ]
  },
  {
   "cell_type": "markdown",
   "metadata": {},
   "source": [
    "## Custom magic function to write code cell contents to a file with global variables formatted:\r\n",
    "\r\n",
    "This is needed so that we can create parameterizable non-python scripts from inside a notebook."
   ]
  },
  {
   "cell_type": "code",
   "execution_count": null,
   "metadata": {},
   "outputs": [],
   "source": [
    "from IPython.core.magic import register_line_cell_magic\r\n",
    "\r\n",
    "@register_line_cell_magic\r\n",
    "def write_format_globals(filename, cell):\r\n",
    "    \"\"\"\r\n",
    "    This is a function to write contents of a notebook cell to a file.\r\n",
    "    To use it, call '%write_format_globals filename' in the first row of\r\n",
    "    the cell the contents of which you want to write into a file.\r\n",
    "    The code written in this cell is not run in the notebook.\r\n",
    "    This means that you can also write and define non-python scripts and\r\n",
    "    execute them from a notebook.\r\n",
    "\r\n",
    "    You can format in global variables by placing them inside curly \r\n",
    "    brackets '{variable name}'.\r\n",
    "\r\n",
    "    Note, that your code should not include curly brackets.\r\n",
    "    If curly brackets need to be written in the file, you can include \r\n",
    "    them through the variable insertion:\r\n",
    "\r\n",
    "    ## CELL 1:\r\n",
    "    bracket_open_string = '{'\r\n",
    "    bracket_close_string = '}'\r\n",
    "\r\n",
    "    ## CELL 2:\r\n",
    "    %write_format_globals myscriptname\r\n",
    "    {bracket_open_string}\r\n",
    "        # I want this part inside curly brackets!\r\n",
    "    {bracket_close_string}\r\n",
    "    \r\n",
    "    ## file 'myscriptname' after running the cells 1 and 2:\r\n",
    "    {\r\n",
    "        # I want this part inside curly brackets!\r\n",
    "    }\r\n",
    "    \"\"\"\r\n",
    "    with open(filename, \"w\") as f:\r\n",
    "        f.write(cell.format(**globals()))"
   ]
  },
  {
   "cell_type": "markdown",
   "metadata": {},
   "source": [
    "## Example: running static workflow from this notebook\r\n",
    "\r\n",
    "(Snakemake-based dynamic workflow can not be run from inside a notebook) "
   ]
  },
  {
   "cell_type": "code",
   "execution_count": null,
   "metadata": {},
   "outputs": [],
   "source": []
  },
  {
   "cell_type": "markdown",
   "metadata": {},
   "source": [
    "## Alternative 1: Static Executable Workflow with papermill\r\n",
    "\r\n",
    "The following script will be written into a python file, that you can run to execute the workflow."
   ]
  },
  {
   "cell_type": "code",
   "execution_count": null,
   "metadata": {},
   "outputs": [],
   "source": []
  },
  {
   "cell_type": "markdown",
   "metadata": {},
   "source": []
  },
  {
   "cell_type": "markdown",
   "metadata": {},
   "source": [
    "## Alternative 2: Dynamic Executable Workflow with Snakemake\r\n",
    "\r\n",
    "The following script will be written into a Snakefile, that you can run to execute the workflow."
   ]
  },
  {
   "cell_type": "code",
   "execution_count": null,
   "metadata": {},
   "outputs": [],
   "source": []
  }
 ],
 "metadata": {
  "kernelspec": {
   "display_name": "Python 3.8 (templateenv)",
   "language": "python",
   "name": "templateenv_py3.8.1"
  }
 },
 "nbformat": 4,
 "nbformat_minor": 2
}
