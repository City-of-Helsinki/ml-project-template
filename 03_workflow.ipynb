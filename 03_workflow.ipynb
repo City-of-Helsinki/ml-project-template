{
 "cells": [
  {
   "cell_type": "code",
   "execution_count": null,
   "metadata": {},
   "outputs": [],
   "source": [
    "# default_exp workflow\n",
    "%load_ext lab_black\n",
    "# nb_black if running in jupyter\n",
    "%load_ext autoreload\n",
    "# automatically reload python modules if there are changes in the\n",
    "%autoreload 2"
   ]
  },
  {
   "cell_type": "code",
   "execution_count": null,
   "metadata": {},
   "outputs": [],
   "source": [
    "# hide\n",
    "from nbdev.showdoc import *"
   ]
  },
  {
   "cell_type": "markdown",
   "metadata": {},
   "source": [
    "# Workflow\n",
    "\n",
    "> Define workflow for automatically updating, training and deploying your ML model!\n"
   ]
  },
  {
   "cell_type": "markdown",
   "metadata": {},
   "source": [
    "***input:*** optional\n",
    "\n",
    "***output:*** python script for execiting the workflow\n",
    "\n",
    "***description:***\n",
    "\n",
    "Define your automated workflow. You can either define static or dynamic workflow, or create a main loop routine and API for using your ML model.\n",
    "\n",
    "Edit this and other text cells to describe your project. \n",
    "\n",
    "Remember that you can utilize the `#export` tag to export cell commands to `[your_module]/workflow.py`."
   ]
  },
  {
   "cell_type": "markdown",
   "metadata": {},
   "source": [
    "## Import relevant modules"
   ]
  },
  {
   "cell_type": "code",
   "execution_count": null,
   "metadata": {},
   "outputs": [],
   "source": [
    "# export\n",
    "import papermill\n",
    "from pathlib import Path\n",
    "import os\n",
    "\n",
    "# your code here"
   ]
  },
  {
   "cell_type": "markdown",
   "metadata": {},
   "source": [
    "## Define notebook parameters"
   ]
  },
  {
   "cell_type": "code",
   "execution_count": null,
   "metadata": {},
   "outputs": [],
   "source": [
    "# your code here\n",
    "seed = 0"
   ]
  },
  {
   "cell_type": "markdown",
   "metadata": {},
   "source": [
    "make direct derivations from the paramerters:"
   ]
  },
  {
   "cell_type": "code",
   "execution_count": null,
   "metadata": {},
   "outputs": [],
   "source": [
    "# your code here"
   ]
  },
  {
   "cell_type": "markdown",
   "metadata": {},
   "source": [
    "## Define workflow\r\n",
    "\r\n",
    "Here we present a tiny example you can try running yourself and then extend to your needs.\r\n",
    "For more complex workflows, consider utilizing the Snakemake tool!"
   ]
  },
  {
   "cell_type": "code",
   "execution_count": null,
   "metadata": {},
   "outputs": [
    {
     "data": {
      "application/vnd.jupyter.widget-view+json": {
       "model_id": "190cb1e210444e759dd7d7db3c504a85",
       "version_major": 2,
       "version_minor": 0
      },
      "text/plain": "Executing:   0%|          | 0/29 [00:00<?, ?cell/s]"
     },
     "metadata": {},
     "output_type": "display_data"
    },
    {
     "data": {
      "application/vnd.jupyter.widget-view+json": {
       "model_id": "c5ea3f2846ec48e6ba27812c39bcf826",
       "version_major": 2,
       "version_minor": 0
      },
      "text/plain": "Executing:   0%|          | 0/25 [00:00<?, ?cell/s]"
     },
     "metadata": {},
     "output_type": "display_data"
    },
    {
     "data": {
      "application/vnd.jupyter.widget-view+json": {
       "model_id": "cc593043f36840808d208abc66a90ff6",
       "version_major": 2,
       "version_minor": 0
      },
      "text/plain": "Executing:   0%|          | 0/32 [00:00<?, ?cell/s]"
     },
     "metadata": {},
     "output_type": "display_data"
    }
   ],
   "source": [
    "# export\n",
    "\n",
    "\"\"\"\n",
    "A workflow to re-run your machine learning workflow automatically.\n",
    "\n",
    "The script will:\n",
    "- rebuild your python module\n",
    "- run data notebook to reload and clean data\n",
    "- run model notebook to sw test your model\n",
    "- run loss notebook to train and evaluate your model with full data,\n",
    "    and save or deploy it for further use\n",
    "\n",
    "Feel free to edit!\n",
    "\"\"\"\n",
    "\n",
    "cwd = Path().cwd()\n",
    "save_notebooks_to = cwd / \"results\" / \"notebooks\"\n",
    "# Hint! you can also create time or setup -stamped folders to store your results!\n",
    "\n",
    "# make sure changes are updated to module\n",
    "os.system(\"nbdev_build_lib\")\n",
    "\n",
    "# run workflow\n",
    "for notebook in [\"00_data.ipynb\", \"01_model.ipynb\", \"02_loss.ipynb\"]:\n",
    "    papermill.execute_notebook(\n",
    "        notebook,  # this notebook will be executed\n",
    "        save_notebooks_to\n",
    "        / (\"_\" + notebook),  # this is where the executed notebook will be saved\n",
    "        # (notebooks named with '_' -prefix are ignored by nbdev)\n",
    "        parameters={\"seed\": 1},  # you can change notebook parameters\n",
    "        kernel_name=\"python39myenv\",\n",
    "    )  # note: change kernel according to your project setup!"
   ]
  },
  {
   "cell_type": "markdown",
   "metadata": {},
   "source": [
    "You can also define your workflow in another language than Python and write it into a file from this notebook.\r\n",
    "This way your script is still included the documentation without copy-pasting.\r\n",
    "You can also add the script to .gitignore to avoid double tracking."
   ]
  },
  {
   "cell_type": "code",
   "execution_count": null,
   "metadata": {},
   "outputs": [
    {
     "name": "stdout",
     "output_type": "stream",
     "text": "Overwriting workflow.sh\n"
    }
   ],
   "source": [
    "%%writefile workflow.sh\n",
    "# do not edit the workflow.sh file directly!\n",
    "# make all edits to 03_workflow.ipynb and re-run the notebook to update script!\n",
    "\n",
    "# your code here"
   ]
  },
  {
   "cell_type": "markdown",
   "metadata": {},
   "source": [
    "You can also run bash and R scripts from inside a notebook:"
   ]
  },
  {
   "cell_type": "code",
   "execution_count": null,
   "metadata": {},
   "outputs": [],
   "source": [
    "%%bash\n",
    "./workflow.sh"
   ]
  },
  {
   "cell_type": "markdown",
   "metadata": {},
   "source": [
    "## You can now move on to API notebook to define an interface to use your trained model!"
   ]
  }
 ],
 "metadata": {
  "kernelspec": {
   "display_name": "Python39template",
   "language": "python",
   "name": "python39template"
  }
 },
 "nbformat": 4,
 "nbformat_minor": 4
}
