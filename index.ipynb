{
 "cells": [
  {
   "cell_type": "code",
   "execution_count": null,
   "metadata": {},
   "outputs": [],
   "source": [
    "#hide #\n",
    "#from your_lib.core import *\n",
    "#from ml-project-template.data import *"
   ]
  },
  {
   "cell_type": "markdown",
   "metadata": {},
   "source": [
    "# Helsinki Machine Learning Project Template\n",
    "\n",
    "> This template contains all necessary tools for a convenient ML DevOps pipeline, open source. You can use it as a template for your ML or analytics project"
   ]
  },
  {
   "cell_type": "markdown",
   "metadata": {},
   "source": [
    "This file will become your README and also the index of your documentation."
   ]
  },
  {
   "cell_type": "markdown",
   "metadata": {},
   "source": [
    "## Installing the template\r\n",
    "\r\n",
    "```\r\n",
    "git clone [this environment]\r\n",
    "git rm -r .git # figure out how to use templates more conveniently\r\n",
    "git init\r\n",
    "conda create --name [your project env name]`\r\n",
    "conda activate [your project env name]\r\n",
    "conda install pip\r\n",
    "pip install -r requirements.txt\r\n",
    "nbdev_install_git_hooks # see if this is necessary\r\n",
    "python -m ipykernel install --user --name [your ipython kernel name] --display-name \"Python [python version] ([your ipython kernel name])\"\r\n",
    "\r\n",
    "```"
   ]
  },
  {
   "cell_type": "markdown",
   "metadata": {},
   "source": [
    "## How to use\r\n",
    "\r\n",
    "T"
   ]
  },
  {
   "cell_type": "markdown",
   "metadata": {},
   "source": [
    "Fill me in please! Don't forget code examples:"
   ]
  },
  {
   "cell_type": "code",
   "execution_count": null,
   "metadata": {},
   "outputs": [
    {
     "data": {
      "text/plain": "2"
     },
     "execution_count": null,
     "metadata": {},
     "output_type": "execute_result"
    }
   ],
   "source": [
    "1+1"
   ]
  },
  {
   "cell_type": "code",
   "execution_count": null,
   "metadata": {},
   "outputs": [],
   "source": []
  }
 ],
 "metadata": {
  "kernelspec": {
   "display_name": "Python 3",
   "language": "python",
   "name": "python3"
  }
 },
 "nbformat": 4,
 "nbformat_minor": 2
}
