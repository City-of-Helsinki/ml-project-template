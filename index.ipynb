{
 "cells": [
  {
   "cell_type": "code",
   "execution_count": null,
   "metadata": {},
   "outputs": [],
   "source": [
    "#hide #\n",
    "#from your_lib.core import *\n",
    "#from ml-project-template.data import *"
   ]
  },
  {
   "cell_type": "code",
   "execution_count": null,
   "metadata": {},
   "outputs": [],
   "source": [
    "# default_exp data\r\n",
    "%load_ext lab_black"
   ]
  },
  {
   "cell_type": "markdown",
   "metadata": {},
   "source": [
    "# Helsinki Machine Learning Project Template\n",
    "\n",
    "> Template for \n",
    "\n",
    "This template contains all necessary tools for a convenient ML DevOps pipeline, open source.\n",
    "You can use it as a template for your ML or analytics project. \n",
    "Follow along the notebooks (starting from this) and modify them to your needs."
   ]
  },
  {
   "cell_type": "markdown",
   "metadata": {},
   "source": [
    "This file will become your README and also the index of your documentation."
   ]
  },
  {
   "cell_type": "markdown",
   "metadata": {},
   "source": [
    "## Installing the template\r\n",
    "\r\n",
    "```\r\n",
    "git clone [this environment]\r\n",
    "git rm -r .git # figure out how to use templates more conveniently\r\n",
    "git init\r\n",
    "conda create --name [your project env name]`\r\n",
    "conda activate [your project env name]\r\n",
    "conda install pip\r\n",
    "pip install -r requirements.txt\r\n",
    "nbdev_install_git_hooks # see if this is necessary\r\n",
    "python -m ipykernel install --user --name [your ipython kernel name] --display-name \"Python [python version] ([your ipython kernel name])\"\r\n",
    "\r\n",
    "```"
   ]
  },
  {
   "cell_type": "markdown",
   "metadata": {},
   "source": [
    "## Basic principles\r\n",
    "\r\n",
    "Explorative coding: code, documentation and results as one\r\n",
    "\r\n",
    "CD/CT/CI\r\n",
    "\r\n",
    "Tidy\r\n",
    "\r\n",
    "Notebook structure: index, data, model, loss, other"
   ]
  },
  {
   "cell_type": "markdown",
   "metadata": {},
   "source": [
    "## Tools\r\n",
    "\r\n",
    "Black\r\n",
    "\r\n",
    "Sklearn, pandas, numpy, matplotlib, scipy, etc.\r\n",
    "\r\n",
    "Notebooks\r\n",
    "\r\n",
    "Nbdev\r\n",
    "\r\n"
   ]
  },
  {
   "cell_type": "markdown",
   "metadata": {},
   "source": [
    "## How to use\r\n",
    "\r\n",
    "edit the notebooks `data`, `model` and `loss` directly or replace them with empty templates found in `notebook_templates`\r\n",
    "\r\n",
    "edit `settings.ini` according to your project details\r\n",
    "\r\n"
   ]
  },
  {
   "cell_type": "markdown",
   "metadata": {},
   "source": [
    "## Creating doc pages\r\n",
    "\r\n",
    "1. Make sure everything runs smoothly\r\n",
    "\r\n",
    "2. Make sure that settings.ini has correct information\r\n",
    "\r\n",
    "3. You may have to manually edit repo name in `Makefile`, `docs/_config.yml` and `docs/_data/topnav.yml` to match your project\r\n",
    "\r\n",
    "4. Run `nbdev_build_lib & nbdev_build_doc`\r\n",
    "\r\n",
    "5. Push\r\n",
    "\r\n",
    "6. Make your Git repository public (github doc pages are only available for public projects. You can also try to build the doc pages locally with jekyll)\r\n",
    "\r\n",
    "7. View the github pages https://city-of-helsinki.github.io/ml_project_template/ (modify according to your project)\r\n"
   ]
  },
  {
   "cell_type": "code",
   "execution_count": null,
   "metadata": {},
   "outputs": [],
   "source": []
  }
 ],
 "metadata": {
  "kernelspec": {
   "display_name": "Python 3.8 (templateenv)",
   "language": "python",
   "name": "templateenv_py3.8.1"
  }
 },
 "nbformat": 4,
 "nbformat_minor": 2
}
