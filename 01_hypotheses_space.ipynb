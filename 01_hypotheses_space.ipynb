{
 "cells": [
  {
   "cell_type": "code",
   "execution_count": null,
   "metadata": {},
   "outputs": [],
   "source": [
    "# default_exp hypothesis_space\r\n",
    "%load_ext lab_black # nb_black if running in jupyter\r\n",
    "%load_ext autoreload # automatically reload python modules if there are changes in the \r\n",
    "%autoreload 2"
   ]
  },
  {
   "cell_type": "markdown",
   "metadata": {},
   "source": [
    "# Hypotheses Space\n",
    "\n",
    "***input***: toy dataset from data-notebook\n",
    "\n",
    "***output***: ML model / simulation / analytics python module\n",
    "\n",
    "***description:***\n",
    "\n",
    "A hypotheses space defines the possible machine learning models, simulations or analytics tools applied to your problem. \n",
    "In this notebook you define the hypotheses space. If you are doing anyhting more complicated than just fitting existing well defined models such as defined in sklearn,\n",
    "it is recommended that you create a base class for the whole hypotheses space where you define core function handles,\n",
    "and implement the functions in subclasses that inherit from the base class. If the methods are complicated or you are \n",
    "comparing multiple methods that are inheritantly different by nature, you can separate models or subclasses to different notebooks similar to this.\n",
    "Adjust the running number in the beginning of the notebook name to your needs for retaining logical order.\n",
    "You should also unit test the classes created in this notebook with either toy data or small sample of your training data.\n",
    "Remember to add `# export` to top of all cells containing functions or classes that you have defined and want to use outside this notebook.\n",
    "\n"
   ]
  },
  {
   "cell_type": "code",
   "execution_count": null,
   "metadata": {},
   "outputs": [],
   "source": [
    "#hide\n",
    "from nbdev.showdoc import *"
   ]
  },
  {
   "cell_type": "markdown",
   "metadata": {},
   "source": [
    "## Import relevant modules"
   ]
  },
  {
   "cell_type": "code",
   "execution_count": null,
   "metadata": {},
   "outputs": [],
   "source": []
  },
  {
   "cell_type": "markdown",
   "metadata": {},
   "source": [
    "## Import toy data for testing"
   ]
  },
  {
   "cell_type": "code",
   "execution_count": null,
   "metadata": {},
   "outputs": [],
   "source": []
  },
  {
   "cell_type": "markdown",
   "metadata": {},
   "source": [
    "## Define base class for hypotheses space / simulations / analytics"
   ]
  },
  {
   "cell_type": "code",
   "execution_count": null,
   "metadata": {},
   "outputs": [],
   "source": []
  },
  {
   "cell_type": "markdown",
   "metadata": {},
   "source": [
    "## Define subclasses & functions\r\n",
    "\r\n",
    "you should also define the loss function used for model fitting\r\n",
    "\r\n",
    "don't forget to unit test!"
   ]
  },
  {
   "cell_type": "code",
   "execution_count": null,
   "metadata": {},
   "outputs": [],
   "source": []
  },
  {
   "cell_type": "markdown",
   "metadata": {},
   "source": [
    "## Visualize model behaviour with toy data"
   ]
  },
  {
   "cell_type": "code",
   "execution_count": null,
   "metadata": {},
   "outputs": [],
   "source": []
  },
  {
   "cell_type": "markdown",
   "metadata": {},
   "source": [
    "## Output of this notebook\r\n",
    "\r\n",
    "The result of this notebook is a collection methods ready for evaluation with the real data.\r\n",
    "\r\n",
    "the methods should be exported with `nbdev_build_lib`, but in the future this will be automatically handled by the pipeline"
   ]
  }
 ],
 "metadata": {
  "kernelspec": {
   "display_name": "Python 3",
   "language": "python",
   "name": "python3"
  }
 },
 "nbformat": 4,
 "nbformat_minor": 2
}
