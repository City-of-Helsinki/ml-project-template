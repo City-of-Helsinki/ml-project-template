{
 "cells": [
  {
   "cell_type": "code",
   "execution_count": 12,
   "metadata": {},
   "outputs": [
    {
     "name": "stderr",
     "output_type": "stream",
     "text": [
      "2022/12/14 12:01:01 WARNING mlflow.utils.autologging_utils: You are using an unsupported version of sklearn. If you encounter errors during autologging, try upgrading / downgrading sklearn to a supported version, or try upgrading MLflow.\n",
      "2022/12/14 12:01:01 INFO mlflow.tracking.fluent: Autologging successfully enabled for sklearn.\n"
     ]
    },
    {
     "ename": "Exception",
     "evalue": "'../local_data/mlruns' does not exist.",
     "output_type": "error",
     "traceback": [
      "\u001b[0;31m---------------------------------------------------------------------------\u001b[0m",
      "\u001b[0;31mException\u001b[0m                                 Traceback (most recent call last)",
      "Cell \u001b[0;32mIn[12], line 19\u001b[0m\n\u001b[1;32m     16\u001b[0m mlflow\u001b[39m.\u001b[39mautolog()\n\u001b[1;32m     18\u001b[0m \u001b[39m# Tag experiment\u001b[39;00m\n\u001b[0;32m---> 19\u001b[0m mlflow\u001b[39m.\u001b[39;49mset_experiment_tag(\u001b[39m'\u001b[39;49m\u001b[39mdataset\u001b[39;49m\u001b[39m'\u001b[39;49m, \u001b[39m'\u001b[39;49m\u001b[39miris\u001b[39;49m\u001b[39m'\u001b[39;49m)\n\u001b[1;32m     20\u001b[0m \u001b[39m# OR use env variable export MLFLOW_TRACKING_URI=sqlite:////mlflow.sqlite & MLFLOW_REGISTRY_URI\u001b[39;00m\n\u001b[1;32m     21\u001b[0m mlflow\u001b[39m.\u001b[39mset_tracking_uri(\u001b[39m'\u001b[39m\u001b[39mfile:///../local_data/mlruns\u001b[39m\u001b[39m'\u001b[39m)\n",
      "File \u001b[0;32m/usr/local/lib/python3.10/dist-packages/mlflow/tracking/fluent.py:567\u001b[0m, in \u001b[0;36mset_experiment_tag\u001b[0;34m(key, value)\u001b[0m\n\u001b[1;32m    547\u001b[0m \u001b[39m\"\"\"\u001b[39;00m\n\u001b[1;32m    548\u001b[0m \u001b[39mSet a tag on the current experiment. Value is converted to a string.\u001b[39;00m\n\u001b[1;32m    549\u001b[0m \n\u001b[0;32m   (...)\u001b[0m\n\u001b[1;32m    564\u001b[0m \u001b[39m       mlflow.set_experiment_tag(\"release.version\", \"2.2.0\")\u001b[39;00m\n\u001b[1;32m    565\u001b[0m \u001b[39m\"\"\"\u001b[39;00m\n\u001b[1;32m    566\u001b[0m experiment_id \u001b[39m=\u001b[39m _get_experiment_id()\n\u001b[0;32m--> 567\u001b[0m MlflowClient()\u001b[39m.\u001b[39;49mset_experiment_tag(experiment_id, key, value)\n",
      "File \u001b[0;32m/usr/local/lib/python3.10/dist-packages/mlflow/tracking/client.py:774\u001b[0m, in \u001b[0;36mMlflowClient.set_experiment_tag\u001b[0;34m(self, experiment_id, key, value)\u001b[0m\n\u001b[1;32m    745\u001b[0m \u001b[39mdef\u001b[39;00m \u001b[39mset_experiment_tag\u001b[39m(\u001b[39mself\u001b[39m, experiment_id: \u001b[39mstr\u001b[39m, key: \u001b[39mstr\u001b[39m, value: Any) \u001b[39m-\u001b[39m\u001b[39m>\u001b[39m \u001b[39mNone\u001b[39;00m:\n\u001b[1;32m    746\u001b[0m     \u001b[39m\"\"\"\u001b[39;00m\n\u001b[1;32m    747\u001b[0m \u001b[39m    Set a tag on the experiment with the specified ID. Value is converted to a string.\u001b[39;00m\n\u001b[1;32m    748\u001b[0m \n\u001b[0;32m   (...)\u001b[0m\n\u001b[1;32m    772\u001b[0m \u001b[39m        Tags: {'nlp.framework': 'Spark NLP'}\u001b[39;00m\n\u001b[1;32m    773\u001b[0m \u001b[39m    \"\"\"\u001b[39;00m\n\u001b[0;32m--> 774\u001b[0m     \u001b[39mself\u001b[39;49m\u001b[39m.\u001b[39;49m_tracking_client\u001b[39m.\u001b[39;49mset_experiment_tag(experiment_id, key, value)\n",
      "File \u001b[0;32m/usr/local/lib/python3.10/dist-packages/mlflow/tracking/_tracking_service/client.py:289\u001b[0m, in \u001b[0;36mTrackingServiceClient.set_experiment_tag\u001b[0;34m(self, experiment_id, key, value)\u001b[0m\n\u001b[1;32m    281\u001b[0m \u001b[39m\"\"\"\u001b[39;00m\n\u001b[1;32m    282\u001b[0m \u001b[39mSet a tag on the experiment with the specified ID. Value is converted to a string.\u001b[39;00m\n\u001b[1;32m    283\u001b[0m \n\u001b[0;32m   (...)\u001b[0m\n\u001b[1;32m    286\u001b[0m \u001b[39m:param value: Tag value (converted to a string).\u001b[39;00m\n\u001b[1;32m    287\u001b[0m \u001b[39m\"\"\"\u001b[39;00m\n\u001b[1;32m    288\u001b[0m tag \u001b[39m=\u001b[39m ExperimentTag(key, \u001b[39mstr\u001b[39m(value))\n\u001b[0;32m--> 289\u001b[0m \u001b[39mself\u001b[39;49m\u001b[39m.\u001b[39;49mstore\u001b[39m.\u001b[39;49mset_experiment_tag(experiment_id, tag)\n",
      "File \u001b[0;32m/usr/local/lib/python3.10/dist-packages/mlflow/store/tracking/file_store.py:930\u001b[0m, in \u001b[0;36mFileStore.set_experiment_tag\u001b[0;34m(self, experiment_id, tag)\u001b[0m\n\u001b[1;32m    923\u001b[0m \u001b[39m\"\"\"\u001b[39;00m\n\u001b[1;32m    924\u001b[0m \u001b[39mSet a tag for the specified experiment\u001b[39;00m\n\u001b[1;32m    925\u001b[0m \n\u001b[1;32m    926\u001b[0m \u001b[39m:param experiment_id: String ID of the experiment\u001b[39;00m\n\u001b[1;32m    927\u001b[0m \u001b[39m:param tag: ExperimentRunTag instance to log\u001b[39;00m\n\u001b[1;32m    928\u001b[0m \u001b[39m\"\"\"\u001b[39;00m\n\u001b[1;32m    929\u001b[0m _validate_tag_name(tag\u001b[39m.\u001b[39mkey)\n\u001b[0;32m--> 930\u001b[0m experiment \u001b[39m=\u001b[39m \u001b[39mself\u001b[39;49m\u001b[39m.\u001b[39;49mget_experiment(experiment_id)\n\u001b[1;32m    931\u001b[0m \u001b[39mif\u001b[39;00m experiment\u001b[39m.\u001b[39mlifecycle_stage \u001b[39m!=\u001b[39m LifecycleStage\u001b[39m.\u001b[39mACTIVE:\n\u001b[1;32m    932\u001b[0m     \u001b[39mraise\u001b[39;00m MlflowException(\n\u001b[1;32m    933\u001b[0m         \u001b[39m\"\u001b[39m\u001b[39mThe experiment \u001b[39m\u001b[39m{}\u001b[39;00m\u001b[39m must be in the \u001b[39m\u001b[39m'\u001b[39m\u001b[39mactive\u001b[39m\u001b[39m'\u001b[39m\u001b[39m\"\u001b[39m\n\u001b[1;32m    934\u001b[0m         \u001b[39m\"\u001b[39m\u001b[39mlifecycle_stage to set tags\u001b[39m\u001b[39m\"\u001b[39m\u001b[39m.\u001b[39mformat(experiment\u001b[39m.\u001b[39mexperiment_id),\n\u001b[1;32m    935\u001b[0m         error_code\u001b[39m=\u001b[39mdatabricks_pb2\u001b[39m.\u001b[39mINVALID_PARAMETER_VALUE,\n\u001b[1;32m    936\u001b[0m     )\n",
      "File \u001b[0;32m/usr/local/lib/python3.10/dist-packages/mlflow/store/tracking/file_store.py:399\u001b[0m, in \u001b[0;36mFileStore.get_experiment\u001b[0;34m(self, experiment_id)\u001b[0m\n\u001b[1;32m    391\u001b[0m \u001b[39m\"\"\"\u001b[39;00m\n\u001b[1;32m    392\u001b[0m \u001b[39mFetch the experiment.\u001b[39;00m\n\u001b[1;32m    393\u001b[0m \u001b[39mNote: This API will search for active as well as deleted experiments.\u001b[39;00m\n\u001b[0;32m   (...)\u001b[0m\n\u001b[1;32m    396\u001b[0m \u001b[39m:return: A single Experiment object if it exists, otherwise raises an Exception.\u001b[39;00m\n\u001b[1;32m    397\u001b[0m \u001b[39m\"\"\"\u001b[39;00m\n\u001b[1;32m    398\u001b[0m experiment_id \u001b[39m=\u001b[39m FileStore\u001b[39m.\u001b[39mDEFAULT_EXPERIMENT_ID \u001b[39mif\u001b[39;00m experiment_id \u001b[39mis\u001b[39;00m \u001b[39mNone\u001b[39;00m \u001b[39melse\u001b[39;00m experiment_id\n\u001b[0;32m--> 399\u001b[0m experiment \u001b[39m=\u001b[39m \u001b[39mself\u001b[39;49m\u001b[39m.\u001b[39;49m_get_experiment(experiment_id)\n\u001b[1;32m    400\u001b[0m \u001b[39mif\u001b[39;00m experiment \u001b[39mis\u001b[39;00m \u001b[39mNone\u001b[39;00m:\n\u001b[1;32m    401\u001b[0m     \u001b[39mraise\u001b[39;00m MlflowException(\n\u001b[1;32m    402\u001b[0m         \u001b[39m\"\u001b[39m\u001b[39mExperiment \u001b[39m\u001b[39m'\u001b[39m\u001b[39m%s\u001b[39;00m\u001b[39m'\u001b[39m\u001b[39m does not exist.\u001b[39m\u001b[39m\"\u001b[39m \u001b[39m%\u001b[39m experiment_id,\n\u001b[1;32m    403\u001b[0m         databricks_pb2\u001b[39m.\u001b[39mRESOURCE_DOES_NOT_EXIST,\n\u001b[1;32m    404\u001b[0m     )\n",
      "File \u001b[0;32m/usr/local/lib/python3.10/dist-packages/mlflow/store/tracking/file_store.py:364\u001b[0m, in \u001b[0;36mFileStore._get_experiment\u001b[0;34m(self, experiment_id, view_type)\u001b[0m\n\u001b[1;32m    363\u001b[0m \u001b[39mdef\u001b[39;00m \u001b[39m_get_experiment\u001b[39m(\u001b[39mself\u001b[39m, experiment_id, view_type\u001b[39m=\u001b[39mViewType\u001b[39m.\u001b[39mALL):\n\u001b[0;32m--> 364\u001b[0m     \u001b[39mself\u001b[39;49m\u001b[39m.\u001b[39;49m_check_root_dir()\n\u001b[1;32m    365\u001b[0m     _validate_experiment_id(experiment_id)\n\u001b[1;32m    366\u001b[0m     experiment_dir \u001b[39m=\u001b[39m \u001b[39mself\u001b[39m\u001b[39m.\u001b[39m_get_experiment_path(experiment_id, view_type)\n",
      "File \u001b[0;32m/usr/local/lib/python3.10/dist-packages/mlflow/store/tracking/file_store.py:172\u001b[0m, in \u001b[0;36mFileStore._check_root_dir\u001b[0;34m(self)\u001b[0m\n\u001b[1;32m    168\u001b[0m \u001b[39m\"\"\"\u001b[39;00m\n\u001b[1;32m    169\u001b[0m \u001b[39mRun checks before running directory operations.\u001b[39;00m\n\u001b[1;32m    170\u001b[0m \u001b[39m\"\"\"\u001b[39;00m\n\u001b[1;32m    171\u001b[0m \u001b[39mif\u001b[39;00m \u001b[39mnot\u001b[39;00m exists(\u001b[39mself\u001b[39m\u001b[39m.\u001b[39mroot_directory):\n\u001b[0;32m--> 172\u001b[0m     \u001b[39mraise\u001b[39;00m \u001b[39mException\u001b[39;00m(\u001b[39m\"\u001b[39m\u001b[39m'\u001b[39m\u001b[39m%s\u001b[39;00m\u001b[39m'\u001b[39m\u001b[39m does not exist.\u001b[39m\u001b[39m\"\u001b[39m \u001b[39m%\u001b[39m \u001b[39mself\u001b[39m\u001b[39m.\u001b[39mroot_directory)\n\u001b[1;32m    173\u001b[0m \u001b[39mif\u001b[39;00m \u001b[39mnot\u001b[39;00m is_directory(\u001b[39mself\u001b[39m\u001b[39m.\u001b[39mroot_directory):\n\u001b[1;32m    174\u001b[0m     \u001b[39mraise\u001b[39;00m \u001b[39mException\u001b[39;00m(\u001b[39m\"\u001b[39m\u001b[39m'\u001b[39m\u001b[39m%s\u001b[39;00m\u001b[39m'\u001b[39m\u001b[39m is not a directory.\u001b[39m\u001b[39m\"\u001b[39m \u001b[39m%\u001b[39m \u001b[39mself\u001b[39m\u001b[39m.\u001b[39mroot_directory)\n",
      "\u001b[0;31mException\u001b[0m: '../local_data/mlruns' does not exist."
     ]
    }
   ],
   "source": [
    "import mlflow as mlflow\n",
    "import pandas as pd\n",
    "from matplotlib import pyplot as plt\n",
    "from mlflow.models import infer_signature\n",
    "from sklearn import metrics\n",
    "from sklearn.model_selection import train_test_split\n",
    "from sklearn.tree import DecisionTreeClassifier\n",
    "\n",
    "#import sys\n",
    "#sys.path.append(\"../model_store/\")\n",
    "\n",
    "model_name = \"model\"\n",
    "run_name = \"iris-experiment\"\n",
    "\n",
    "# Initiate automatic logging\n",
    "mlflow.autolog()\n",
    "\n",
    "# Tag experiment\n",
    "mlflow.set_experiment_tag('dataset', 'iris')\n",
    "# OR use env variable export MLFLOW_TRACKING_URI=sqlite:////mlflow.sqlite & MLFLOW_REGISTRY_URI\n",
    "mlflow.set_tracking_uri('file:../local_data/mlruns')\n",
    "mlflow.set_registry_uri('sqlite:///../local_data/mlflow.sqlite')"
   ]
  },
  {
   "cell_type": "code",
   "execution_count": null,
   "metadata": {},
   "outputs": [],
   "source": [
    "# Load sample dataset\n",
    "#TODO: READ DATA FROM REDASH\n",
    "df = pd.read_csv('iris_dataset.csv')\n",
    "y = df.pop('variety')\n",
    "X = df\n",
    "\n",
    "# Split data\n",
    "X_train, X_test, y_train, y_test = train_test_split(X, y, test_size=0.2)"
   ]
  },
  {
   "cell_type": "code",
   "execution_count": null,
   "metadata": {},
   "outputs": [
    {
     "name": "stdout",
     "output_type": "stream",
     "text": [
      "Start new experiment run and train model using iris dataset.\n",
      "Model training complete.\n"
     ]
    },
    {
     "name": "stderr",
     "output_type": "stream",
     "text": [
      "Registered model 'model' already exists. Creating a new version of this model...\n",
      "2022/12/14 11:55:06 INFO mlflow.tracking._model_registry.client: Waiting up to 300 seconds for model version to finish creation.                     Model name: model, version 5\n"
     ]
    },
    {
     "name": "stdout",
     "output_type": "stream",
     "text": [
      "Model model saved in run fd2913abfac64d25a02a440e53a14d23\n"
     ]
    },
    {
     "name": "stderr",
     "output_type": "stream",
     "text": [
      "Created version '5' of model 'model'.\n"
     ]
    }
   ],
   "source": [
    "# Start run and train a model\n",
    "# Note: You could for example create multiple runs with different hyperparameters\n",
    "# Then you could compare them in mlflow ui.\n",
    "with mlflow.start_run(run_name=run_name):\n",
    "\n",
    "    print(\"Start new experiment run and train model using iris dataset.\")\n",
    "\n",
    "    # Create decision tree classifier\n",
    "    classifier = DecisionTreeClassifier(criterion='entropy')\n",
    "\n",
    "    # Train the model using the training sets\n",
    "    classifier.fit(X_train, y_train)\n",
    "    y_pred = classifier.predict(X_test)\n",
    "\n",
    "    print(\"Model training complete.\")\n",
    "\n",
    "    # Metrics\n",
    "    metrics_data = metrics.classification_report(y_test, y_pred, output_dict=True)\n",
    "\n",
    "    # Infer schema for model\n",
    "    signature = infer_signature(X_train, y_train)\n",
    "\n",
    "    # You can log whatever you want, for example subset of data for testing\n",
    "    mlflow.log_text(\"Hello world!\", 'custom_log.txt')\n",
    "\n",
    "    # store figure\n",
    "\n",
    "    forest_importances = pd.Series(classifier.feature_importances_, index=classifier.feature_names_in_)\n",
    "\n",
    "    fig, ax = plt.subplots()\n",
    "    forest_importances.plot.bar(ax=ax)\n",
    "    ax.set_title(\"Feature importances\")\n",
    "    fig.tight_layout()\n",
    "    mlflow.log_figure(fig, 'feature_importances.png')\n",
    "\n",
    "    # Model registry does not work with file store\n",
    "    mlflow.sklearn.log_model(\n",
    "        classifier, model_name, signature=signature, registered_model_name=model_name\n",
    "    )\n",
    "    print(\"Model {} saved in run {}\".format(model_name, mlflow.active_run().info.run_uuid))"
   ]
  }
 ],
 "metadata": {
  "kernelspec": {
   "display_name": "Python 3",
   "language": "python",
   "name": "python3"
  },
  "language_info": {
   "codemirror_mode": {
    "name": "ipython",
    "version": 3
   },
   "file_extension": ".py",
   "mimetype": "text/x-python",
   "name": "python",
   "nbconvert_exporter": "python",
   "pygments_lexer": "ipython3",
   "version": "3.10.6"
  },
  "vscode": {
   "interpreter": {
    "hash": "e7370f93d1d0cde622a1f8e1c04877d8463912d04d973331ad4851f04de6915a"
   }
  }
 },
 "nbformat": 4,
 "nbformat_minor": 0
}
