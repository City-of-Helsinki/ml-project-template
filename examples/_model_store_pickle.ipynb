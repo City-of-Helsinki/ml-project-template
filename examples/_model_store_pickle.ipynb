{
 "cells": [
  {
   "attachments": {},
   "cell_type": "markdown",
   "metadata": {},
   "source": [
    "# EXAMPLE: Updating model to pickle model store\n",
    "\n",
    "> Example of creating, training and testing a machine learning model and storing the trained model to pickle model store."
   ]
  },
  {
   "cell_type": "code",
   "execution_count": null,
   "metadata": {
    "vscode": {
     "languageId": "python"
    }
   },
   "outputs": [],
   "source": [
    "import os\n",
    "import sys\n",
    "\n",
    "import logging\n",
    "import pickle\n",
    "from typing import List\n",
    "\n",
    "from sklearn.metrics import classification_report\n",
    "from sklearn.model_selection import train_test_split\n",
    "from sklearn.tree import DecisionTreeClassifier\n",
    "import datetime as dt"
   ]
  },
  {
   "cell_type": "code",
   "execution_count": null,
   "metadata": {
    "vscode": {
     "languageId": "python"
    }
   },
   "outputs": [],
   "source": [
    "current = os.path.abspath('')\n",
    "parent_directory = os.path.dirname(current)\n",
    "sys.path.append(parent_directory)\n",
    "from model_store import PickleModelStore, ModelSchemaContainer"
   ]
  },
  {
   "cell_type": "code",
   "execution_count": null,
   "metadata": {
    "vscode": {
     "languageId": "python"
    }
   },
   "outputs": [],
   "source": [
    "# Load sample dataset\n",
    "df = pd.read_csv('iris_dataset.csv')\n",
    "y = df.pop('variety')\n",
    "X = df\n",
    "\n",
    "# Split data\n",
    "X_train, X_test, y_train, y_test = train_test_split(X, y, test_size=0.2)"
   ]
  },
  {
   "cell_type": "code",
   "execution_count": null,
   "metadata": {
    "vscode": {
     "languageId": "python"
    }
   },
   "outputs": [],
   "source": [
    "# Create linear regression object\n",
    "classifier = DecisionTreeClassifier(criterion=\"entropy\")\n",
    "\n",
    "# Train the model using the training sets\n",
    "classifier.fit(X_train, y_train)\n",
    "y_pred = classifier.predict(X_test)"
   ]
  },
  {
   "cell_type": "code",
   "execution_count": null,
   "metadata": {
    "vscode": {
     "languageId": "python"
    }
   },
   "outputs": [],
   "source": [
    "# Metrics\n",
    "# Train/test/val metrics to be passed on to api & monitoring\n",
    "metrics_raw = classification_report(y_test, y_pred, output_dict=True)\n",
    "\n",
    "# reformat metrics to api/metrics format\n",
    "metrics_parsed = {}\n",
    "for key in list(metrics_raw.keys()):\n",
    "    metrics_parsed[key] = {\n",
    "        \"value\": metrics_raw[key],\n",
    "        \"description\": \"\",\n",
    "        \"type\": \"numeric\",\n",
    "    }\n",
    "\n",
    "# we can also pass metadata\n",
    "metrics_parsed[\"model_update_time\"] = {\n",
    "    \"value\": dt.datetime.now(),\n",
    "    \"description\": \"\",\n",
    "    \"type\": \"numeric\",\n",
    "}"
   ]
  },
  {
   "cell_type": "code",
   "execution_count": null,
   "metadata": {
    "vscode": {
     "languageId": "python"
    }
   },
   "outputs": [],
   "source": [
    "# Use dtypes to determine api request and response models\n",
    "dtypes_x = [{\"name\": c, \"type\": X[c].dtype.type} for c in X.columns]\n",
    "dtypes_y = [{\"name\": y.name, \"type\": y.dtype.type}]\n"
   ]
  },
  {
   "cell_type": "code",
   "execution_count": null,
   "metadata": {
    "vscode": {
     "languageId": "python"
    }
   },
   "outputs": [],
   "source": [
    "CONTEXT_PATH = parent_directory\n",
    "MODEL_PATH = CONTEXT_PATH.join(f\"local_data/bundle_latest.pickle\")\n",
    "# Pickle all in single file\n",
    "model_store = PickleModelStore(bundle_uri=MODEL_PATH)\n",
    "model_store.persist(classifier, MODEL_PATH, dtypes_x, dtypes_y, metrics_parsed)"
   ]
  },
  {
   "attachments": {},
   "cell_type": "markdown",
   "metadata": {},
   "source": [
    "Now if you should be able to run the api with `MODEL_STORE=pickle` environment variable set and load the just-pickled model."
   ]
  }
 ],
 "metadata": {
  "kernelspec": {
   "display_name": "Python 3",
   "language": "python",
   "name": "python3"
  }
 },
 "nbformat": 4,
 "nbformat_minor": 0
}
