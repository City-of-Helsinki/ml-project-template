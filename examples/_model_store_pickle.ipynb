{
 "cells": [
  {
   "attachments": {},
   "cell_type": "markdown",
   "metadata": {},
   "source": [
    "# EXAMPLE: Updating model to pickle model store\n",
    "\n",
    "> Example of creating, training and testing a machine learning model and storing the trained model to pickle model store."
   ]
  },
  {
   "cell_type": "code",
   "execution_count": 18,
   "metadata": {},
   "outputs": [],
   "source": [
    "import os\n",
    "import sys\n",
    "\n",
    "import logging\n",
    "import pickle\n",
    "from typing import List\n",
    "import pandas as pd\n",
    "from sklearn.metrics import classification_report\n",
    "from sklearn.model_selection import train_test_split\n",
    "from sklearn.tree import DecisionTreeClassifier\n",
    "import datetime as dt"
   ]
  },
  {
   "attachments": {},
   "cell_type": "markdown",
   "metadata": {},
   "source": [
    "Local imports:"
   ]
  },
  {
   "cell_type": "code",
   "execution_count": 19,
   "metadata": {},
   "outputs": [],
   "source": [
    "current = os.path.abspath('')\n",
    "parent_directory = os.path.dirname(current)\n",
    "sys.path.append(parent_directory)\n",
    "from model_store import PickleModelStore, ModelSchemaContainer"
   ]
  },
  {
   "attachments": {},
   "cell_type": "markdown",
   "metadata": {},
   "source": [
    "Data:"
   ]
  },
  {
   "cell_type": "code",
   "execution_count": 20,
   "metadata": {},
   "outputs": [],
   "source": [
    "# Load sample dataset\n",
    "df = pd.read_csv('iris_dataset.csv')\n",
    "y = df.pop('variety')\n",
    "X = df\n",
    "\n",
    "# Split data\n",
    "X_train, X_test, y_train, y_test = train_test_split(X, y, test_size=0.2)"
   ]
  },
  {
   "attachments": {},
   "cell_type": "markdown",
   "metadata": {},
   "source": [
    "Model:"
   ]
  },
  {
   "cell_type": "code",
   "execution_count": 21,
   "metadata": {},
   "outputs": [],
   "source": [
    "# Create linear regression object\n",
    "classifier = DecisionTreeClassifier(criterion=\"entropy\")\n",
    "\n",
    "# Train the model using the training sets\n",
    "classifier.fit(X_train, y_train)\n",
    "y_pred = classifier.predict(X_test)"
   ]
  },
  {
   "attachments": {},
   "cell_type": "markdown",
   "metadata": {},
   "source": [
    "Train, test:"
   ]
  },
  {
   "cell_type": "code",
   "execution_count": 22,
   "metadata": {},
   "outputs": [],
   "source": [
    "# Metrics\n",
    "# Train/test/val metrics to be passed on to api & monitoring\n",
    "metrics_raw = classification_report(y_test, y_pred, output_dict=True)\n",
    "\n",
    "# reformat metrics to api/metrics format\n",
    "metrics_parsed = {}\n",
    "for feature in list(metrics_raw.keys()):\n",
    "    if isinstance(metrics_raw[feature], dict):\n",
    "        for metricname in list(metrics_raw[feature].keys()):\n",
    "            metrics_parsed[feature + \"_\" + metricname] = {\n",
    "                \"value\": metrics_raw[feature][metricname],\n",
    "                \"description\": \"\",\n",
    "                \"type\": \"numeric\",\n",
    "            }\n",
    "\n",
    "# we can also pass metadata\n",
    "metrics_parsed[\"model_update_time\"] = {\n",
    "    \"value\": dt.datetime.now(),\n",
    "    \"description\": \"\",\n",
    "    \"type\": \"numeric\",\n",
    "}"
   ]
  },
  {
   "attachments": {},
   "cell_type": "markdown",
   "metadata": {},
   "source": [
    "Schema:"
   ]
  },
  {
   "cell_type": "code",
   "execution_count": 23,
   "metadata": {},
   "outputs": [],
   "source": [
    "# Use dtypes to determine api request and response models\n",
    "dtypes_x = [{\"name\": c, \"type\": X[c].dtype.type} for c in X.columns]\n",
    "dtypes_y = [{\"name\": y.name, \"type\": y.dtype.type}]\n"
   ]
  },
  {
   "attachments": {},
   "cell_type": "markdown",
   "metadata": {},
   "source": [
    "Save to model store:"
   ]
  },
  {
   "cell_type": "code",
   "execution_count": 25,
   "metadata": {},
   "outputs": [],
   "source": [
    "MODEL_PATH = parent_directory + \"/local_data/bundle_latest.pickle\"\n",
    "# Pickle all in single file\n",
    "model_store = PickleModelStore()\n",
    "model_store.persist(classifier, MODEL_PATH, dtypes_x, dtypes_y, metrics_parsed)"
   ]
  },
  {
   "attachments": {},
   "cell_type": "markdown",
   "metadata": {},
   "source": [
    "Now if you should be able to run the api with `MODEL_STORE=pickle` environment variable set and load the just-pickled model."
   ]
  }
 ],
 "metadata": {
  "kernelspec": {
   "display_name": "Python 3",
   "language": "python",
   "name": "python3"
  },
  "language_info": {
   "codemirror_mode": {
    "name": "ipython",
    "version": 3
   },
   "file_extension": ".py",
   "mimetype": "text/x-python",
   "name": "python",
   "nbconvert_exporter": "python",
   "pygments_lexer": "ipython3",
   "version": "3.10.6"
  },
  "vscode": {
   "interpreter": {
    "hash": "31f2aee4e71d21fbe5cf8b01ff0e069b9275f58929596ceb00d14d90e3e16cd6"
   }
  }
 },
 "nbformat": 4,
 "nbformat_minor": 0
}
