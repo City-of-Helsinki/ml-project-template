{
 "cells": [
  {
   "cell_type": "code",
   "execution_count": null,
   "metadata": {},
   "outputs": [],
   "source": [
    "# default_exp model\n",
    "%load_ext lab_black\n",
    "# nb_black if running in jupyter\n",
    "%load_ext autoreload\n",
    "# automatically reload python modules if there are changes in the\n",
    "%autoreload 2"
   ]
  },
  {
   "cell_type": "code",
   "execution_count": null,
   "metadata": {},
   "outputs": [],
   "source": [
    "# hide\n",
    "from nbdev.showdoc import *"
   ]
  },
  {
   "cell_type": "markdown",
   "metadata": {},
   "source": [
    "# Model\r\n",
    "\r\n",
    "> In this notebook you create and test a Python class to hold your machine learning model."
   ]
  },
  {
   "cell_type": "markdown",
   "metadata": {},
   "source": [
    "***input***: toy dataset from data-notebook\r\n",
    "\r\n",
    "***output***: ML model / simulation / analytics python module\r\n",
    "\r\n",
    "***description:***\r\n",
    "\r\n",
    "In this notebook you hypothetize, explain and explore machine learning models to solve your problem.\r\n",
    "\r\n",
    "Then, you should encapsulate the model inside a Python class to be exported into `your_repo_name/model.py`,\r\n",
    "so that it can be evaluated in the loss notebook, and intergrated with your target application.\r\n",
    "You should also unit test the classes created in this notebook with the toy data created in data notebook.\r\n",
    "\r\n",
    "You should probably have a person in your team familiar with object oriented programming with python and unit testing, but if not, don't worry.\r\n",
    "If you can draft the model function in a script format, any programmer can easily do it for you.\r\n",
    "However, we encourage you to learn more on [object oriented programming with Python](https://realpython.com/python3-object-oriented-programming/)\r\n",
    "and [getting started with unit testing in Python](https://realpython.com/python-testing/).\r\n",
    "\r\n",
    "This notebook contains an example ML model for classifying the heart disease dataset with linearregression.\r\n",
    "\r\n",
    "If the methods are complicated or you are comparing multiple methods that are inheritantly different by nature, \r\n",
    "you can also separate models or subclasses to different notebooks similar to this.\r\n",
    "Adjust the running number, name, header and top cell `#default_exp module_name` of the notebooks accordingly.\r\n",
    "\r\n",
    "Remember to add `# export` to top of all cells containing functions or classes that you have defined and want to use outside this notebook.\r\n",
    "\r\n",
    "\r\n"
   ]
  },
  {
   "cell_type": "markdown",
   "metadata": {},
   "source": [
    "## Import relevant modules"
   ]
  },
  {
   "cell_type": "code",
   "execution_count": null,
   "metadata": {},
   "outputs": [],
   "source": [
    "# export\n",
    "import matplotlib.pyplot as plt\n",
    "import numpy as np\n",
    "import pandas as pd\n",
    "from sklearn.linear_model import LogisticRegression\n",
    "from sklearn.metrics import f1_score\n",
    "from sklearn.model_selection import (\n",
    "    GridSearchCV,\n",
    "    cross_val_score,\n",
    "    train_test_split,\n",
    "    StratifiedKFold,\n",
    ")\n",
    "from sklearn.pipeline import Pipeline, make_pipeline\n",
    "from sklearn.preprocessing import StandardScaler"
   ]
  },
  {
   "cell_type": "code",
   "execution_count": null,
   "metadata": {},
   "outputs": [],
   "source": [
    "# import custom modules\n",
    "from ml_project_template.data import plot_trellis, plot_histogram"
   ]
  },
  {
   "cell_type": "markdown",
   "metadata": {},
   "source": [
    "## Define parameters\r\n",
    "\r\n",
    "Remember, only simple assignments here!"
   ]
  },
  {
   "cell_type": "code",
   "execution_count": null,
   "metadata": {},
   "outputs": [],
   "source": [
    "# tag this cell with 'parameters'\n",
    "seed = 0"
   ]
  },
  {
   "cell_type": "markdown",
   "metadata": {},
   "source": [
    "Make immediate derivations from the parameters:"
   ]
  },
  {
   "cell_type": "code",
   "execution_count": null,
   "metadata": {},
   "outputs": [],
   "source": [
    "np.random.seed(0)"
   ]
  },
  {
   "cell_type": "markdown",
   "metadata": {},
   "source": [
    "## Import toy data for testing"
   ]
  },
  {
   "cell_type": "code",
   "execution_count": null,
   "metadata": {},
   "outputs": [
    {
     "data": {
      "text/html": "<div>\n<style scoped>\n    .dataframe tbody tr th:only-of-type {\n        vertical-align: middle;\n    }\n\n    .dataframe tbody tr th {\n        vertical-align: top;\n    }\n\n    .dataframe thead th {\n        text-align: right;\n    }\n</style>\n<table border=\"1\" class=\"dataframe\">\n  <thead>\n    <tr style=\"text-align: right;\">\n      <th></th>\n      <th>x1age</th>\n      <th>x4trestbps</th>\n      <th>x8thalach</th>\n      <th>x10oldpeak</th>\n      <th>y1num</th>\n    </tr>\n  </thead>\n  <tbody>\n    <tr>\n      <th>0</th>\n      <td>53.0</td>\n      <td>142.0</td>\n      <td>111.0</td>\n      <td>0.0</td>\n      <td>0</td>\n    </tr>\n    <tr>\n      <th>1</th>\n      <td>56.0</td>\n      <td>200.0</td>\n      <td>133.0</td>\n      <td>4.0</td>\n      <td>1</td>\n    </tr>\n    <tr>\n      <th>2</th>\n      <td>62.0</td>\n      <td>140.0</td>\n      <td>143.0</td>\n      <td>0.0</td>\n      <td>1</td>\n    </tr>\n    <tr>\n      <th>3</th>\n      <td>53.0</td>\n      <td>160.0</td>\n      <td>122.0</td>\n      <td>0.0</td>\n      <td>1</td>\n    </tr>\n    <tr>\n      <th>4</th>\n      <td>54.0</td>\n      <td>160.0</td>\n      <td>163.0</td>\n      <td>0.0</td>\n      <td>0</td>\n    </tr>\n  </tbody>\n</table>\n</div>",
      "text/plain": "   x1age  x4trestbps  x8thalach  x10oldpeak  y1num\n0   53.0       142.0      111.0         0.0      0\n1   56.0       200.0      133.0         4.0      1\n2   62.0       140.0      143.0         0.0      1\n3   53.0       160.0      122.0         0.0      1\n4   54.0       160.0      163.0         0.0      0"
     },
     "execution_count": null,
     "metadata": {},
     "output_type": "execute_result"
    }
   ],
   "source": [
    "toy_df = pd.read_csv(\n",
    "    \"data/preprocessed_data/dataset_toy_switzerland_cleveland.csv\", index_col=0\n",
    ")\n",
    "toy_df.head()"
   ]
  },
  {
   "cell_type": "markdown",
   "metadata": {},
   "source": [
    "## Begin with a simple script before constructing the model class\r\n",
    "\r\n",
    "Scripting is a way of programming most people doing research are used to.\r\n",
    "In a script, everything a code does is written in a file (or for example notebook cell),\r\n",
    "and the rows are executed in order.\r\n",
    "\r\n",
    "Of course you can define complicated objects and functions in a script,\r\n",
    "and in fact most modern programming languages are written in a script like way.\r\n",
    "So you are used to this, and there is nothing new here!\r\n",
    "\r\n",
    "Here we define the following steps\r\n",
    "1. Splitting data into training and testing data\r\n",
    "2. Preprocess the data (e.g. scale, dimension reduction)\r\n",
    "3. Fit a model\r\n",
    "4. Turn steps 2 and 3 into a pipe\r\n",
    "5. Optimize hyperparameters\r\n",
    "\r\n",
    "By defining these, we get a pretty good picture of required properties of our ML model class!\r\n"
   ]
  },
  {
   "cell_type": "code",
   "execution_count": null,
   "metadata": {},
   "outputs": [],
   "source": [
    "# split train and test data\n",
    "\n",
    "X = toy_df.iloc[:, :-1]  # .to_numpy()\n",
    "y = toy_df.iloc[:, -1]  # .to_numpy()\n",
    "\n",
    "k = 2\n",
    "seed = 0\n",
    "\n",
    "X_train, X_test, y_train, y_test = train_test_split(\n",
    "    X, y, test_size=1 / 5, random_state=seed, stratify=y\n",
    ")"
   ]
  },
  {
   "cell_type": "code",
   "execution_count": null,
   "metadata": {},
   "outputs": [
    {
     "name": "stdout",
     "output_type": "stream",
     "text": [
      "0.4\n"
     ]
    }
   ],
   "source": [
    "# create preprocessing steps, model and pipe\n",
    "\n",
    "scaler = StandardScaler()\n",
    "lgr = LogisticRegression()\n",
    "pipe = Pipeline([(\"scaler\", scaler), (\"estimator\", lgr)])\n",
    "pipe.fit(\n",
    "    X_train,\n",
    "    y_train,\n",
    ")\n",
    "print(pipe.score(X_test, y_test))"
   ]
  },
  {
   "cell_type": "code",
   "execution_count": null,
   "metadata": {},
   "outputs": [
    {
     "name": "stdout",
     "output_type": "stream",
     "text": [
      "[0.7 0.8]\n",
      "Best Estimator: \n",
      "Pipeline(steps=[('scaler', StandardScaler()),\n",
      "                ('estimator', LogisticRegression(C=2.782559402207126))])\n",
      "\n",
      "Best Parameters: \n",
      "{'estimator__C': 2.782559402207126}\n",
      "\n",
      "Best Test Score: \n",
      "0.65\n",
      "\n",
      "Best Training Score: \n",
      "0.9\n",
      "\n",
      "All Training Scores: \n",
      "[0.6 0.6 0.6 0.6 0.9 0.9 1.  1.  1.  1. ]\n",
      "\n",
      "All Test Scores: \n",
      "[0.6  0.6  0.6  0.6  0.65 0.65 0.5  0.5  0.5  0.5 ]\n",
      "\n",
      "Test score with best params (should equal to Best Test Score above)\n",
      "0.4\n"
     ]
    }
   ],
   "source": [
    "# create optimization pipe\n",
    "\n",
    "cv = StratifiedKFold(n_splits=k)\n",
    "print(cross_val_score(pipe, X_train, y_train, cv=cv))\n",
    "\n",
    "## optimize\n",
    "param_grid = {\n",
    "    \"estimator__C\": np.logspace(-4, 4, 10),\n",
    "}\n",
    "\n",
    "# make_pipeline(Imputer(),StandardScaler(),PCA(n_components=2),SVC(random_state=1))\n",
    "\n",
    "# cv = StratifiedKFold(n_splits=5)\n",
    "gs = GridSearchCV(\n",
    "    estimator=pipe,\n",
    "    param_grid=param_grid,\n",
    "    scoring=\"accuracy\",\n",
    "    cv=cv,\n",
    "    return_train_score=True,\n",
    ")\n",
    "gs.fit(X_train, y_train)\n",
    "\n",
    "print(\"Best Estimator: \\n{}\\n\".format(gs.best_estimator_))\n",
    "print(\"Best Parameters: \\n{}\\n\".format(gs.best_params_))\n",
    "print(\"Best Test Score: \\n{}\\n\".format(gs.best_score_))\n",
    "print(\n",
    "    \"Best Training Score: \\n{}\\n\".format(\n",
    "        gs.cv_results_[\"mean_train_score\"][gs.best_index_]\n",
    "    )\n",
    ")\n",
    "print(\"All Training Scores: \\n{}\\n\".format(gs.cv_results_[\"mean_train_score\"]))\n",
    "print(\"All Test Scores: \\n{}\\n\".format(gs.cv_results_[\"mean_test_score\"]))\n",
    "# # This prints out all results during Cross-Validation in details\n",
    "# print(\"All Meta Results During CV Search: \\n{}\\n\".format(gs.cv_results_))\n",
    "\n",
    "# Reset pipeline with best params\n",
    "pipe.set_params(estimator__C=gs.best_params_[\"estimator__C\"])\n",
    "pipe.fit(X_train, y_train)\n",
    "print(\"Test score with best params (should equal to Best Test Score above)\")\n",
    "print(pipe.score(X_test, y_test))"
   ]
  },
  {
   "cell_type": "markdown",
   "metadata": {},
   "source": [
    "Ok, so we can fit a model to the data and it appears to do something (with the small test data we can not necessarily say if it's meaningful).\r\n",
    "\r\n",
    "However, how would you take this script into production?\r\n",
    "How would you scale it, or use it with completely different setup of data and parameters?\r\n",
    "(well, this is a tiny example, so we could actually easily parameterize a script, but that's rarely the case in real world applications)\r\n",
    "\r\n",
    "This is why we need to construct a model class, to hold all of the steps required in separate, tidy functions.\r\n",
    "Then we can recreate the model and the steps with different data, without copy-pasting or manually editing all the tiny details."
   ]
  },
  {
   "cell_type": "markdown",
   "metadata": {},
   "source": [
    "## Define base class for your ML model\r\n",
    "\r\n",
    "You will probably do just fine creating a one simple class that does not inherit much.\r\n",
    "However, this is not always the case, and class inheritance is one of the most useful features of Python.\r\n",
    "This is why we wanted to demonstrate a base class - subclass division.\r\n",
    "\r\n",
    "---\r\n",
    "REMINDER: How to create tidy class functions?\r\n",
    "- If the function performs a transformation on data, it should return the transformation. A transformation does not make changes to the model attributes.\r\n",
    "- If the function performs a side-effect, it should return reference to self, so that the functions can be piped. A side effect makes changes to the model attributes.\r\n",
    "- Transformations and side effects should not be mixed. A function should only perform one.\r\n",
    "---\r\n",
    "\r\n",
    "For example the pipe `model.optimize().predict(X, y)` first performs a side effect `.optimize()` and then a transformation `.predict(X, y)`.\r\n",
    "The optimization function changes model parameters permanently, and the predict function only makes a transformation on the input data.\r\n",
    "However, a side effect may require input and a transformation does not always require input. \r\n",
    "\r\n",
    "Here we define the base class `MachineLearningModel` that holds some simple functions for handling data, that would be common for all subclasses.\r\n",
    "\r\n",
    "> **Note**: in this example the model instance contains the data. \r\n",
    "This is rarely applicable in practice if the data is large.\r\n",
    "Instead, in most applications the model should be routed to query the data when needed, in a similar way that it would appear as if the model instance contained the data.  "
   ]
  },
  {
   "cell_type": "code",
   "execution_count": null,
   "metadata": {},
   "outputs": [],
   "source": [
    "# export\n",
    "\n",
    "# Define base class for our classifier\n",
    "class MachineLearningModel:\n",
    "    \"\"\"\n",
    "    Overly simplified example for a base class: basically just function handle definitions\n",
    "    \"\"\"\n",
    "\n",
    "    def __init__(self, X, y, n_splits=5, seed=0):\n",
    "        self.n_splits = n_splits  # k-fold n_splits\n",
    "        self.seed = seed\n",
    "        self.set_data(X, y)\n",
    "\n",
    "    def set_data(self, X, y):\n",
    "        \"\"\"\n",
    "        Set traing and evaluation data\n",
    "        \"\"\"\n",
    "        self.X = X.copy()\n",
    "        self.y = y.copy()\n",
    "\n",
    "        self.__create_train_test_data()\n",
    "\n",
    "        return self\n",
    "\n",
    "    def get_data(self) -> (np.ndarray, np.ndarray):\n",
    "        \"\"\"\n",
    "        Get training and evaluation data\n",
    "        \"\"\"\n",
    "        return self.X.copy(), self.y.copy()\n",
    "\n",
    "    def __create_train_test_data(self, n_splits=None, seed=None):\n",
    "        \"\"\"\n",
    "        Create training and testing data\n",
    "        \"\"\"\n",
    "        if seed is None:\n",
    "            seed = self.seed\n",
    "        if n_splits is None:\n",
    "            n_splits = self.n_splits\n",
    "\n",
    "        self.X_train, self.X_test, self.y_train, self.y_test = train_test_split(\n",
    "            self.X, self.y, test_size=(1 / n_splits), random_state=seed, stratify=self.y\n",
    "        )\n",
    "\n",
    "        return self\n",
    "\n",
    "    def get_train_test_data(self):\n",
    "        \"\"\"\n",
    "        Return X_train, X_test, y_train, y_test\n",
    "        \"\"\"\n",
    "        return self.X_train, self.X_test, self.y_train, self.y_test\n",
    "\n",
    "    def fit(self, X=None, y=None, **fit_params):\n",
    "        pass\n",
    "\n",
    "    def predict(self, X):\n",
    "        pass\n",
    "\n",
    "    def loss(self, X, y):\n",
    "        pass\n",
    "\n",
    "    def get_train_loss(self):\n",
    "        pass\n",
    "\n",
    "    def get_test_loss(self):\n",
    "        pass\n",
    "\n",
    "    def optimize(self):\n",
    "        pass\n",
    "\n",
    "    def get_params(self):\n",
    "        pass"
   ]
  },
  {
   "cell_type": "markdown",
   "metadata": {},
   "source": [
    "## Unit test base class\r\n",
    "\r\n",
    "Purpose of unit testing is to cover all possible excecution paths in code.\r\n",
    "Unit testing helps developers to avoid and identify bugs in code.\r\n",
    "\r\n",
    "In this example python built-in `assert` is used for unit tests.\r\n",
    "The line after `assert` should return `True`, i.e. a non-zero object.\r\n",
    "0 or None object will raise an `AssertionError`. Note that `np.nan` does not raise the error.\r\n",
    "\r\n",
    "At the moment, nbdev considers all cells that do not have `# export` tag as tests. \r\n",
    "This is handy because you can now keep all your tests in the same file (notebook) with the code and documentation.\r\n",
    "The downside is, however, that at the moment there is no official solution for monitoring test coverage. \r\n",
    "If test coverage is required, one option would be to implement tests with  `pytest` or `unittest` and export the tests to separate test.py file.\r\n",
    "Nbdev allows marking slow cells with `# slow` tag so that they can be left out from commit test runs to speed up testing.\r\n",
    "\r\n",
    "\r\n"
   ]
  },
  {
   "cell_type": "code",
   "execution_count": null,
   "metadata": {},
   "outputs": [],
   "source": [
    "# test init\n",
    "mlmodel = MachineLearningModel(X, y)\n",
    "\n",
    "# test get_data\n",
    "assert mlmodel.get_data()[0].shape == X.shape\n",
    "assert mlmodel.get_data()[1][1] == y[1]\n",
    "\n",
    "# test __create_test_train_data and get_train_test_data\n",
    "assert np.ceil(\n",
    "    10 * mlmodel.get_train_test_data()[-1].shape[0] / mlmodel.get_data()[1].shape[0]\n",
    ") == np.ceil(10 / mlmodel.n_splits)\n",
    "\n",
    "# test set_data\n",
    "assert (\n",
    "    MachineLearningModel(X, y)\n",
    "    .set_data(X.iloc[range(X.shape[0] - 1, -1, -1)], y)\n",
    "    .get_data()[0]\n",
    "    .iloc[0, 0]\n",
    ") == X.iloc[-1, 0]"
   ]
  },
  {
   "cell_type": "markdown",
   "metadata": {},
   "source": [
    "## Define subclasses & functions\r\n",
    "\r\n",
    "A subclass or child class inherits all attributes and functions of a parent class, but may also have additional functions defined.\r\n",
    "\r\n",
    "Here we define an example of a subclass of `MachineLearningModel`, the `LogisticRegressionModel` which performs logistic regression:"
   ]
  },
  {
   "cell_type": "code",
   "execution_count": null,
   "metadata": {},
   "outputs": [],
   "source": [
    "# export\n",
    "\n",
    "# Create subclass\n",
    "# now you see, that the subclass inherits data handling functions from the base class,\n",
    "# and we do not need to redefine them (although we could if we wanted to!\n",
    "\n",
    "\n",
    "class LogisticRegressionClassifier(MachineLearningModel):\n",
    "    \"\"\"\n",
    "    Logistic regression classifier\n",
    "    \"\"\"\n",
    "\n",
    "    def __init__(self, X, y, n_splits=5, seed=0):\n",
    "\n",
    "        super(LogisticRegressionClassifier, self).__init__(\n",
    "            X, y, n_splits=n_splits, seed=seed\n",
    "        )\n",
    "\n",
    "        self.scaler = StandardScaler()\n",
    "        self.model = LogisticRegression()\n",
    "        self.pipe = Pipeline([(\"scaler\", self.scaler), (\"estimator\", self.model)])\n",
    "\n",
    "        # cross validation for optimization\n",
    "        self.cv = StratifiedKFold(n_splits=self.n_splits)\n",
    "\n",
    "        # param grid for optimization\n",
    "        self.param_grid = {\n",
    "            \"estimator__C\": np.linspace(0.3, 1.7, 10)  # logspace(-4, 4, 10),\n",
    "        }\n",
    "\n",
    "        # define optimization method for optimizing the model\n",
    "        self.optimization_pipe = GridSearchCV(\n",
    "            estimator=self.pipe,\n",
    "            param_grid=self.param_grid,\n",
    "            scoring=\"accuracy\",\n",
    "            cv=self.cv,\n",
    "            return_train_score=True,\n",
    "        )\n",
    "\n",
    "    def fit(self, X=None, y=None):\n",
    "        \"\"\"\n",
    "        Train and evaluate model\n",
    "        \"\"\"\n",
    "        if X is None or y is None:\n",
    "            self.pipe.fit(self.X_train, self.y_train)\n",
    "        else:  # reset data, recreate training and testing data and recursively call fit\n",
    "            self.set_data(X, y).fit()\n",
    "\n",
    "        return self\n",
    "\n",
    "    def predict(self, X):\n",
    "        \"\"\"\n",
    "        Get predicted value at X\n",
    "        \"\"\"\n",
    "        return self.pipe.predict(X)\n",
    "\n",
    "    def loss(self, X, y):\n",
    "        \"\"\"\n",
    "        Return loss (model quality metric) [f1 score]\n",
    "\n",
    "        Note that this may be a different metric than the one that the model optimizer is using (scoring method).\n",
    "        For example for LogisticRegression the scoring method is mean accuracy,\n",
    "        but we want to track f1-score for loss because it is better balanced.\n",
    "        \"\"\"\n",
    "\n",
    "        return f1_score(y, self.predict(X))\n",
    "\n",
    "    def get_train_loss(self):\n",
    "        \"\"\"\n",
    "        Return loss for training data\n",
    "        \"\"\"\n",
    "        return self.loss(self.X_train, self.y_train)\n",
    "\n",
    "    def get_test_loss(self):\n",
    "        \"\"\"\n",
    "        Return loss for testing data\n",
    "        \"\"\"\n",
    "        return self.loss(self.X_test, self.y_test)\n",
    "\n",
    "    def optimize(self):\n",
    "        \"\"\"\n",
    "        Optimize model hyperparameters and fit the model with optimized parameters.\n",
    "\n",
    "        This example is with GridSearchCV, but more efficient algorithms can be implemented in practice.\n",
    "        \"\"\"\n",
    "        self.optimization_pipe.fit(self.X_train, self.y_train)\n",
    "        self.pipe.set_params(\n",
    "            estimator__C=self.optimization_pipe.best_params_[\"estimator__C\"]\n",
    "        )\n",
    "        self.fit()\n",
    "        return self\n",
    "\n",
    "    def get_params(self):\n",
    "        \"\"\"\n",
    "        Return parameters\n",
    "        \"\"\"\n",
    "        return self.pipe.get_params()"
   ]
  },
  {
   "cell_type": "markdown",
   "metadata": {},
   "source": [
    "## Unit test subclasses\r\n",
    "\r\n",
    "To unit test the class, we want to try and call every function of it and execute every different possible execution path.\r\n",
    "Complete coverage is rarely possible,\r\n",
    "but it would be good to try and test the functions with good and bad input,\r\n",
    "and with possible limit values (min, max, zero, None).\r\n",
    "\r\n",
    "However, a few simple tests are easier to maintain (and to actually get done) than exhaustive unit testing, so don't worry about coverage too much!"
   ]
  },
  {
   "cell_type": "code",
   "execution_count": null,
   "metadata": {},
   "outputs": [
    {
     "name": "stdout",
     "output_type": "stream",
     "text": [
      "Before optimization\n",
      "predicted: [1 1 0 1 0 1 1 0 0 1 1 0 1 1 0 0 1 0 1 1 0 1 1 1 0]\n",
      "true     : [0 1 1 1 0 1 0 0 1 1 1 0 1 0 0 0 1 0 1 1 0 1 1 1 1]\n",
      "train_loss: 0.8695652173913043\ttest_loss: 0.5714285714285715\n",
      "After optimization:\n",
      "predicted: [1 1 0 1 0 1 1 0 0 1 1 0 1 1 0 0 1 0 1 1 0 1 1 1 0]\n",
      "true     : [0 1 1 1 0 1 0 0 1 1 1 0 1 0 0 0 1 0 1 1 0 1 1 1 1]\n",
      "train_loss: 0.8695652173913043\ttest_loss: 0.5714285714285715\n"
     ]
    }
   ],
   "source": [
    "# test init\n",
    "lgr_model = LogisticRegressionClassifier(X, y)\n",
    "\n",
    "# test fit\n",
    "try:  # fit should be called before predict or score\n",
    "    lgr_model.predict([1, 1, 1, 1])  # this will cause an error\n",
    "except:  # but the except statement catches the error\n",
    "    pass  # yes, you can also test what should not work!\n",
    "try:\n",
    "    lgr_model.get_train_loss()\n",
    "except:\n",
    "    pass\n",
    "\n",
    "assert lgr_model.fit()  # should not break\n",
    "assert lgr_model.fit(X, y)\n",
    "\n",
    "# test predict\n",
    "assert lgr_model.predict(X[::1]).any()\n",
    "# test loss\n",
    "assert lgr_model.get_train_loss()\n",
    "assert lgr_model.get_test_loss()\n",
    "print(\"Before optimization\")\n",
    "print(f\"predicted: {lgr_model.predict(X[::1])}\")\n",
    "print(f\"true     : {y[::1].values}\")\n",
    "print(\n",
    "    f\"train_loss: {lgr_model.get_train_loss()}\\ttest_loss: {lgr_model.get_test_loss()}\"\n",
    ")\n",
    "\n",
    "# test optimize\n",
    "assert lgr_model.optimize()\n",
    "print(\"After optimization:\")\n",
    "print(f\"predicted: {lgr_model.predict(X[::1])}\")\n",
    "print(f\"true     : {y[::1].values}\")\n",
    "print(\n",
    "    f\"train_loss: {lgr_model.get_train_loss()}\\ttest_loss: {lgr_model.get_test_loss()}\"\n",
    ")\n",
    "\n",
    "# test get_params\n",
    "assert lgr_model.get_params()"
   ]
  },
  {
   "cell_type": "markdown",
   "metadata": {},
   "source": [
    "## Visualize model behaviour with toy data"
   ]
  },
  {
   "cell_type": "code",
   "execution_count": null,
   "metadata": {},
   "outputs": [],
   "source": [
    "import time"
   ]
  },
  {
   "cell_type": "code",
   "execution_count": null,
   "metadata": {},
   "outputs": [
    {
     "name": "stderr",
     "output_type": "stream",
     "text": [
      "/anaconda/envs/templateenv/lib/python3.8/site-packages/sklearn/model_selection/_split.py:666: UserWarning: The least populated class in y has only 3 members, which is less than n_splits=5.\n",
      "  warnings.warn((\"The least populated class in y has only %d\"\n",
      "/anaconda/envs/templateenv/lib/python3.8/site-packages/sklearn/model_selection/_split.py:666: UserWarning: The least populated class in y has only 3 members, which is less than n_splits=5.\n",
      "  warnings.warn((\"The least populated class in y has only %d\"\n",
      "/anaconda/envs/templateenv/lib/python3.8/site-packages/sklearn/model_selection/_split.py:666: UserWarning: The least populated class in y has only 4 members, which is less than n_splits=5.\n",
      "  warnings.warn((\"The least populated class in y has only %d\"\n",
      "/anaconda/envs/templateenv/lib/python3.8/site-packages/sklearn/model_selection/_split.py:666: UserWarning: The least populated class in y has only 4 members, which is less than n_splits=5.\n",
      "  warnings.warn((\"The least populated class in y has only %d\"\n"
     ]
    },
    {
     "data": {
      "text/html": "<div>\n<style scoped>\n    .dataframe tbody tr th:only-of-type {\n        vertical-align: middle;\n    }\n\n    .dataframe tbody tr th {\n        vertical-align: top;\n    }\n\n    .dataframe thead th {\n        text-align: right;\n    }\n</style>\n<table border=\"1\" class=\"dataframe\">\n  <thead>\n    <tr style=\"text-align: right;\">\n      <th></th>\n      <th>n_obs</th>\n      <th>train_loss</th>\n      <th>test_loss</th>\n      <th>optimized_C</th>\n      <th>optimization_time</th>\n    </tr>\n    <tr>\n      <th>round</th>\n      <th></th>\n      <th></th>\n      <th></th>\n      <th></th>\n      <th></th>\n    </tr>\n  </thead>\n  <tbody>\n    <tr>\n      <th>0</th>\n      <td>10</td>\n      <td>0.769231</td>\n      <td>0.666667</td>\n      <td>0.3</td>\n      <td>0.555506</td>\n    </tr>\n    <tr>\n      <th>1</th>\n      <td>11</td>\n      <td>0.769231</td>\n      <td>0.800000</td>\n      <td>0.3</td>\n      <td>0.546714</td>\n    </tr>\n    <tr>\n      <th>2</th>\n      <td>12</td>\n      <td>0.769231</td>\n      <td>0.800000</td>\n      <td>0.3</td>\n      <td>0.522048</td>\n    </tr>\n    <tr>\n      <th>3</th>\n      <td>13</td>\n      <td>0.800000</td>\n      <td>0.800000</td>\n      <td>0.3</td>\n      <td>0.519283</td>\n    </tr>\n    <tr>\n      <th>4</th>\n      <td>14</td>\n      <td>0.833333</td>\n      <td>0.500000</td>\n      <td>0.3</td>\n      <td>0.518505</td>\n    </tr>\n  </tbody>\n</table>\n</div>",
      "text/plain": "       n_obs  train_loss  test_loss  optimized_C  optimization_time\nround                                                              \n0         10    0.769231   0.666667          0.3           0.555506\n1         11    0.769231   0.800000          0.3           0.546714\n2         12    0.769231   0.800000          0.3           0.522048\n3         13    0.800000   0.800000          0.3           0.519283\n4         14    0.833333   0.500000          0.3           0.518505"
     },
     "execution_count": null,
     "metadata": {},
     "output_type": "execute_result"
    }
   ],
   "source": [
    "lgr = LogisticRegressionClassifier(X, y)\n",
    "eval_df = pd.DataFrame()\n",
    "\n",
    "for i in range(10, X.shape[0]):\n",
    "    lgr.fit(X.iloc[:i], y.iloc[:i])\n",
    "\n",
    "    begin = time.time()\n",
    "    lgr.optimize()\n",
    "    end = time.time()\n",
    "\n",
    "    ret = pd.DataFrame(\n",
    "        {\n",
    "            \"round\": [i - 10],\n",
    "            \"n_obs\": [lgr.get_data()[0].shape[0]],\n",
    "            \"train_loss\": [lgr.get_train_loss()],\n",
    "            \"test_loss\": [lgr.get_test_loss()],\n",
    "            \"optimized_C\": [lgr.get_params()[\"estimator__C\"]],\n",
    "            \"optimization_time\": end - begin,\n",
    "        }\n",
    "    )\n",
    "    eval_df = pd.concat([eval_df, ret], axis=0, ignore_index=True)\n",
    "eval_df.set_index(\"round\", inplace=True)\n",
    "eval_df.head()"
   ]
  },
  {
   "cell_type": "markdown",
   "metadata": {},
   "source": [
    "We could want to monitor progress somehow, such as the learning rate. This is just a super simple example:"
   ]
  },
  {
   "cell_type": "code",
   "execution_count": null,
   "metadata": {},
   "outputs": [
    {
     "data": {
      "image/png": "[encoded data removed]",
      "text/plain": "<Figure size 432x288 with 1 Axes>"
     },
     "metadata": {
      "needs_background": "light"
     },
     "output_type": "display_data"
    }
   ],
   "source": [
    "_ = eval_df.drop(\"n_obs\", axis=1).plot()"
   ]
  },
  {
   "cell_type": "markdown",
   "metadata": {},
   "source": [
    "For example visualization, let's make a scatter plot where we annotate false predictions to see if they follow a pattern:"
   ]
  },
  {
   "cell_type": "code",
   "execution_count": null,
   "metadata": {},
   "outputs": [
    {
     "data": {
      "image/png": "[encoded data removed]",
      "text/plain": "<Figure size 864x864 with 16 Axes>"
     },
     "metadata": {
      "needs_background": "light"
     },
     "output_type": "display_data"
    }
   ],
   "source": [
    "df = X\n",
    "df[\"prediction_correct\"] = (\n",
    "    LogisticRegressionClassifier(X, y).fit().optimize().predict(X) - y.values == 0\n",
    ")\n",
    "_ = plot_trellis(df, legend_title=\"prediction\", true_label=\"Correct\")"
   ]
  },
  {
   "cell_type": "markdown",
   "metadata": {},
   "source": [
    "## Output of this notebook\r\n",
    "\r\n",
    "The result of this notebook is a collection methods ready for evaluation with the real data.\r\n",
    "\r\n",
    "the methods should be exported with `nbdev_build_lib`, but in the future this will be automatically handled by the pipeline"
   ]
  }
 ],
 "metadata": {
  "kernelspec": {
   "display_name": "Python 3.8 (templateenv)",
   "language": "python",
   "name": "templateenv_py3.8.1"
  }
 },
 "nbformat": 4,
 "nbformat_minor": 2
}
