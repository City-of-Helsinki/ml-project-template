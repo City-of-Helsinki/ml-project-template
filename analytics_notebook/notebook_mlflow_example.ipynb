{
 "cells": [
  {
   "cell_type": "code",
   "execution_count": 1,
   "metadata": {
    "collapsed": true
   },
   "outputs": [
    {
     "name": "stderr",
     "output_type": "stream",
     "text": [
      "2022/12/07 09:33:29 INFO mlflow.tracking.fluent: Autologging successfully enabled for sklearn.\n"
     ]
    }
   ],
   "source": [
    "import mlflow as mlflow\n",
    "import pandas as pd\n",
    "from matplotlib import pyplot as plt\n",
    "from mlflow.models import infer_signature\n",
    "from sklearn import metrics\n",
    "from sklearn.model_selection import train_test_split\n",
    "from sklearn.tree import DecisionTreeClassifier\n",
    "\n",
    "model_name = \"model\"\n",
    "run_name = \"iris-experiment\"\n",
    "\n",
    "# Initiate automatic logging\n",
    "mlflow.autolog()\n",
    "\n",
    "# Tag experiment\n",
    "mlflow.set_experiment_tag('dataset', 'iris')\n",
    "# OR use env variable export MLFLOW_TRACKING_URI=sqlite:////mlflow.sqlite & MLFLOW_REGISTRY_URI\n",
    "mlflow.set_tracking_uri('file:../local_data/mlruns')\n",
    "mlflow.set_registry_uri('sqlite:///../local_data/mlflow.sqlite')"
   ]
  },
  {
   "cell_type": "code",
   "execution_count": 2,
   "metadata": {
    "collapsed": false,
    "pycharm": {
     "name": "#%%\n"
    }
   },
   "outputs": [],
   "source": [
    "# Load sample dataset\n",
    "#TODO: READ DATA FROM REDASH\n",
    "df = pd.read_csv('iris_dataset.csv')\n",
    "y = df.pop('variety')\n",
    "X = df\n",
    "\n",
    "# Split data\n",
    "X_train, X_test, y_train, y_test = train_test_split(X, y, test_size=0.2)"
   ]
  },
  {
   "cell_type": "code",
   "execution_count": 3,
   "metadata": {
    "collapsed": false,
    "pycharm": {
     "name": "#%%\n"
    }
   },
   "outputs": [
    {
     "name": "stdout",
     "output_type": "stream",
     "text": [
      "Start new experiment run and train model using iris dataset.\n",
      "Model training complete.\n"
     ]
    },
    {
     "name": "stderr",
     "output_type": "stream",
     "text": [
      "Registered model 'model' already exists. Creating a new version of this model...\n",
      "2022/12/07 09:33:35 INFO mlflow.tracking._model_registry.client: Waiting up to 300 seconds for model version to finish creation.                     Model name: model, version 2\n"
     ]
    },
    {
     "name": "stdout",
     "output_type": "stream",
     "text": [
      "Model model saved in run 601c013cb3b14c5082ccae28baa0daf6\n"
     ]
    },
    {
     "name": "stderr",
     "output_type": "stream",
     "text": [
      "Created version '2' of model 'model'.\n"
     ]
    },
    {
     "data": {
      "image/png": "[encoded data removed]",
      "text/plain": [
       "<Figure size 640x480 with 1 Axes>"
      ]
     },
     "metadata": {},
     "output_type": "display_data"
    }
   ],
   "source": [
    "# Start run and train a model\n",
    "# Note: You could for example create multiple runs with different hyperparameters\n",
    "# Then you could compare them in mlflow ui.\n",
    "with mlflow.start_run(run_name=run_name):\n",
    "\n",
    "    print(\"Start new experiment run and train model using iris dataset.\")\n",
    "\n",
    "    # Create decision tree classifier\n",
    "    classifier = DecisionTreeClassifier(criterion='entropy')\n",
    "\n",
    "    # Train the model using the training sets\n",
    "    classifier.fit(X_train, y_train)\n",
    "    y_pred = classifier.predict(X_test)\n",
    "\n",
    "    print(\"Model training complete.\")\n",
    "\n",
    "    # Metrics\n",
    "    metrics_data = metrics.classification_report(y_test, y_pred, output_dict=True)\n",
    "\n",
    "    # Infer schema for model\n",
    "    signature = infer_signature(X_train, y_train)\n",
    "\n",
    "    # You can log whatever you want, for example subset of data for testing\n",
    "    mlflow.log_text(\"Hello world!\", 'custom_log.txt')\n",
    "\n",
    "    # store figure\n",
    "\n",
    "    forest_importances = pd.Series(classifier.feature_importances_, index=classifier.feature_names_in_)\n",
    "\n",
    "    fig, ax = plt.subplots()\n",
    "    forest_importances.plot.bar(ax=ax)\n",
    "    ax.set_title(\"Feature importances\")\n",
    "    fig.tight_layout()\n",
    "    mlflow.log_figure(fig, 'feature_importances.png')\n",
    "\n",
    "    # Model registry does not work with file store\n",
    "    mlflow.sklearn.log_model(\n",
    "        classifier, model_name, signature=signature, registered_model_name=model_name\n",
    "    )\n",
    "    print(\"Model {} saved in run {}\".format(model_name, mlflow.active_run().info.run_uuid))"
   ]
  }
 ],
 "metadata": {
  "kernelspec": {
   "display_name": "Python 3",
   "language": "python",
   "name": "python3"
  },
  "language_info": {
   "codemirror_mode": {
    "name": "ipython",
    "version": 2
   },
   "file_extension": ".py",
   "mimetype": "text/x-python",
   "name": "python",
   "nbconvert_exporter": "python",
   "pygments_lexer": "ipython2",
   "version": "3.10.6 (main, Nov 14 2022, 16:10:14) [GCC 11.3.0]"
  },
  "vscode": {
   "interpreter": {
    "hash": "e7370f93d1d0cde622a1f8e1c04877d8463912d04d973331ad4851f04de6915a"
   }
  }
 },
 "nbformat": 4,
 "nbformat_minor": 0
}
